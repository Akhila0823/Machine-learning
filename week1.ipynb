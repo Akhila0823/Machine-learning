{
 "cells": [
  {
   "cell_type": "markdown",
   "id": "14408953-944c-4f8b-bbd5-e01b7832bda9",
   "metadata": {},
   "source": [
    "# WEEK 1"
   ]
  },
  {
   "cell_type": "code",
   "execution_count": 352,
   "id": "c5b0a30b-c03b-427b-be43-3a937fc0518f",
   "metadata": {},
   "outputs": [
    {
     "name": "stdout",
     "output_type": "stream",
     "text": [
      "0    10\n",
      "1    20\n",
      "2    30\n",
      "3    40\n",
      "dtype: int64\n"
     ]
    }
   ],
   "source": [
    "import pandas as pd\n",
    "data=[10,20,30,40]\n",
    "v=pd.Series(data)\n",
    "print(v)"
   ]
  },
  {
   "cell_type": "code",
   "execution_count": 354,
   "id": "a7a22043-8d0e-47a4-a0af-03048ba83079",
   "metadata": {},
   "outputs": [
    {
     "name": "stdout",
     "output_type": "stream",
     "text": [
      "   akki brands\n",
      "0   123   tata\n",
      "1   432    tcs\n",
      "2   322  wipro\n"
     ]
    }
   ],
   "source": [
    "import pandas as pd\n",
    "data={\"akki\":[123,432,322],\n",
    "      \"brands\":[\"tata\",\"tcs\",\"wipro\"]\n",
    "     }\n",
    "df=pd.DataFrame(data)\n",
    "print(df)"
   ]
  },
  {
   "cell_type": "code",
   "execution_count": 357,
   "id": "cdebbc4b-90d3-45cf-8a23-a6d6098a7beb",
   "metadata": {},
   "outputs": [
    {
     "name": "stdout",
     "output_type": "stream",
     "text": [
      "      akki brands\n",
      "day1   123   tata\n",
      "day2   432    tcs\n",
      "day3   322  wipro\n"
     ]
    }
   ],
   "source": [
    "import pandas as pd\n",
    "data={\"akki\":[123,432,322],\n",
    "      \"brands\":[\"tata\",\"tcs\",\"wipro\"]\n",
    "     }\n",
    "df=pd.DataFrame(data,index=[\"day1\",\"day2\",\"day3\"])\n",
    "print(df)"
   ]
  },
  {
   "cell_type": "code",
   "execution_count": 359,
   "id": "694a8bb7-97d3-4198-8948-2268eb5d783b",
   "metadata": {},
   "outputs": [
    {
     "name": "stdout",
     "output_type": "stream",
     "text": [
      "   TransactionID TransactionDate  UserID  ProductID  Quantity\n",
      "0              1      2010-08-21     7.0          2         1\n",
      "1              2      2011-05-26     3.0          4         1\n",
      "2              3      2011-06-16     3.0          3         1\n",
      "3              4      2012-08-26     1.0          2         3\n",
      "4              5      2013-06-06     2.0          4         1\n",
      "5              6      2013-12-23     2.0          5         6\n",
      "6              7      2013-12-30     3.0          4         1\n",
      "7              8      2014-04-24     NaN          2         3\n",
      "8              9      2015-04-24     7.0          4         3\n",
      "9             10      2016-05-08     3.0          4         4\n"
     ]
    }
   ],
   "source": [
    "import pandas as pd\n",
    "df=pd.read_csv(\"transactions.csv\")\n",
    "print(df)"
   ]
  },
  {
   "cell_type": "code",
   "execution_count": 360,
   "id": "3d38b8a5-a2ad-4571-a9ae-9fac3ce286d6",
   "metadata": {},
   "outputs": [
    {
     "name": "stdout",
     "output_type": "stream",
     "text": [
      "   TransactionID TransactionDate  UserID  ProductID  Quantity\n",
      "0              1      2010-08-21     7.0          2         1\n",
      "1              2      2011-05-26     3.0          4         1\n",
      "2              3      2011-06-16     3.0          3         1\n",
      "3              4      2012-08-26     1.0          2         3\n",
      "4              5      2013-06-06     2.0          4         1\n",
      "5              6      2013-12-23     2.0          5         6\n",
      "6              7      2013-12-30     3.0          4         1\n",
      "7              8      2014-04-24     NaN          2         3\n",
      "8              9      2015-04-24     7.0          4         3\n",
      "9             10      2016-05-08     3.0          4         4\n"
     ]
    }
   ],
   "source": [
    "import pandas as pd\n",
    "df=pd.read_csv(\"transactions.csv\")\n",
    "print(df.head(10))"
   ]
  },
  {
   "cell_type": "code",
   "execution_count": 361,
   "id": "014ad32a-efbe-4851-a45b-bef6f1309c49",
   "metadata": {},
   "outputs": [
    {
     "name": "stdout",
     "output_type": "stream",
     "text": [
      "   TransactionID TransactionDate  UserID  ProductID  Quantity\n",
      "0              1      2010-08-21     7.0          2         1\n",
      "1              2      2011-05-26     3.0          4         1\n",
      "2              3      2011-06-16     3.0          3         1\n",
      "3              4      2012-08-26     1.0          2         3\n",
      "4              5      2013-06-06     2.0          4         1\n",
      "5              6      2013-12-23     2.0          5         6\n",
      "6              7      2013-12-30     3.0          4         1\n",
      "7              8      2014-04-24     NaN          2         3\n",
      "8              9      2015-04-24     7.0          4         3\n",
      "9             10      2016-05-08     3.0          4         4\n"
     ]
    }
   ],
   "source": [
    "import pandas as pd\n",
    "df=pd.read_csv(\"transactions.csv\")\n",
    "print(df.tail(10))"
   ]
  },
  {
   "cell_type": "code",
   "execution_count": 362,
   "id": "4903c053-4182-4a6a-abb7-2c8cbd1cabb3",
   "metadata": {},
   "outputs": [
    {
     "name": "stdout",
     "output_type": "stream",
     "text": [
      "<class 'pandas.core.frame.DataFrame'>\n",
      "RangeIndex: 10 entries, 0 to 9\n",
      "Data columns (total 5 columns):\n",
      " #   Column           Non-Null Count  Dtype  \n",
      "---  ------           --------------  -----  \n",
      " 0   TransactionID    10 non-null     int64  \n",
      " 1   TransactionDate  10 non-null     object \n",
      " 2   UserID           9 non-null      float64\n",
      " 3   ProductID        10 non-null     int64  \n",
      " 4   Quantity         10 non-null     int64  \n",
      "dtypes: float64(1), int64(3), object(1)\n",
      "memory usage: 532.0+ bytes\n",
      "None\n"
     ]
    }
   ],
   "source": [
    "import pandas as pd\n",
    "df=pd.read_csv(\"transactions.csv\")\n",
    "print(df.info())"
   ]
  },
  {
   "cell_type": "code",
   "execution_count": 363,
   "id": "635f56c4-6e0f-4f7b-b0fc-0dea7344ef6a",
   "metadata": {},
   "outputs": [
    {
     "name": "stdout",
     "output_type": "stream",
     "text": [
      "       TransactionID    UserID  ProductID   Quantity\n",
      "count       10.00000  9.000000  10.000000  10.000000\n",
      "mean         5.50000  3.444444   3.400000   2.400000\n",
      "std          3.02765  2.127858   1.074968   1.712698\n",
      "min          1.00000  1.000000   2.000000   1.000000\n",
      "25%          3.25000  2.000000   2.250000   1.000000\n",
      "50%          5.50000  3.000000   4.000000   2.000000\n",
      "75%          7.75000  3.000000   4.000000   3.000000\n",
      "max         10.00000  7.000000   5.000000   6.000000\n"
     ]
    }
   ],
   "source": [
    "import pandas as pd\n",
    "df=pd.read_csv(\"transactions.csv\")\n",
    "print(df.describe())"
   ]
  },
  {
   "cell_type": "code",
   "execution_count": 364,
   "id": "092d6202-ab13-41a9-bf4f-22bfd6c6ad71",
   "metadata": {},
   "outputs": [
    {
     "name": "stdout",
     "output_type": "stream",
     "text": [
      "0     1\n",
      "1     2\n",
      "2     3\n",
      "3     4\n",
      "4     5\n",
      "5     6\n",
      "6     7\n",
      "7     8\n",
      "8     9\n",
      "9    10\n",
      "Name: TransactionID, dtype: int64\n"
     ]
    }
   ],
   "source": [
    "import pandas as pd\n",
    "df=pd.read_csv(\"transactions.csv\")\n",
    "print(df['TransactionID'])"
   ]
  },
  {
   "cell_type": "code",
   "execution_count": 365,
   "id": "553cff77-fcd4-4aaa-bec8-f83433687772",
   "metadata": {},
   "outputs": [
    {
     "name": "stdout",
     "output_type": "stream",
     "text": [
      "   UserID  ProductID\n",
      "0     7.0          2\n",
      "1     3.0          4\n",
      "2     3.0          3\n",
      "3     1.0          2\n",
      "4     2.0          4\n",
      "5     2.0          5\n",
      "6     3.0          4\n",
      "7     NaN          2\n",
      "8     7.0          4\n",
      "9     3.0          4\n"
     ]
    }
   ],
   "source": [
    "\n",
    "print(df[['UserID','ProductID']])"
   ]
  },
  {
   "cell_type": "code",
   "execution_count": 366,
   "id": "39a733ff-4313-47cf-a8d8-a25578b88016",
   "metadata": {},
   "outputs": [
    {
     "name": "stdout",
     "output_type": "stream",
     "text": [
      "TransactionID               2\n",
      "TransactionDate    2011-05-26\n",
      "UserID                    3.0\n",
      "ProductID                   4\n",
      "Quantity                    1\n",
      "Name: 1, dtype: object\n"
     ]
    }
   ],
   "source": [
    "print(df.iloc[1])"
   ]
  },
  {
   "cell_type": "code",
   "execution_count": 367,
   "id": "dd482e17-0149-4ae4-903c-e62f28ed7f6e",
   "metadata": {},
   "outputs": [
    {
     "name": "stdout",
     "output_type": "stream",
     "text": [
      "   TransactionID TransactionDate  UserID  ProductID  Quantity\n",
      "0              1      2010-08-21     7.0          2         1\n",
      "8              9      2015-04-24     7.0          4         3\n"
     ]
    }
   ],
   "source": [
    "filtered_df=df[df['UserID']>3]\n",
    "print(filtered_df)"
   ]
  },
  {
   "cell_type": "code",
   "execution_count": 368,
   "id": "d07c603b-8334-4408-992d-5574f01be6e6",
   "metadata": {},
   "outputs": [
    {
     "name": "stdout",
     "output_type": "stream",
     "text": [
      "   TransactionID TransactionDate  UID  ProductID  Quantity\n",
      "0              1      2010-08-21  7.0          2         1\n",
      "1              2      2011-05-26  3.0          4         1\n",
      "2              3      2011-06-16  3.0          3         1\n",
      "3              4      2012-08-26  1.0          2         3\n",
      "4              5      2013-06-06  2.0          4         1\n",
      "5              6      2013-12-23  2.0          5         6\n",
      "6              7      2013-12-30  3.0          4         1\n",
      "7              8      2014-04-24  NaN          2         3\n",
      "8              9      2015-04-24  7.0          4         3\n",
      "9             10      2016-05-08  3.0          4         4\n"
     ]
    }
   ],
   "source": [
    "df.rename(columns={'UserID':'UID'},inplace=True)\n",
    "print(df)"
   ]
  },
  {
   "cell_type": "code",
   "execution_count": 369,
   "id": "37b29c05-be37-4922-9717-b883f553c739",
   "metadata": {},
   "outputs": [
    {
     "name": "stdout",
     "output_type": "stream",
     "text": [
      "TransactionID      0\n",
      "TransactionDate    0\n",
      "UID                1\n",
      "ProductID          0\n",
      "Quantity           0\n",
      "dtype: int64\n"
     ]
    }
   ],
   "source": [
    "print(df.isnull().sum())"
   ]
  },
  {
   "cell_type": "code",
   "execution_count": null,
   "id": "726293f5-ab7b-45bb-bd85-0f0f12d08b7d",
   "metadata": {},
   "outputs": [],
   "source": []
  },
  {
   "cell_type": "code",
   "execution_count": 371,
   "id": "fe0aa7aa-e023-4bb9-840e-8d7511f3f125",
   "metadata": {},
   "outputs": [
    {
     "name": "stdout",
     "output_type": "stream",
     "text": [
      "   TransactionID TransactionDate  UID  ProductID  Quantity\n",
      "0              1      2010-08-21  7.0          2         1\n",
      "1              2      2011-05-26  3.0          4         1\n",
      "2              3      2011-06-16  3.0          3         1\n",
      "3              4      2012-08-26  1.0          2         3\n",
      "4              5      2013-06-06  2.0          4         1\n",
      "5              6      2013-12-23  2.0          5         6\n",
      "6              7      2013-12-30  3.0          4         1\n",
      "7              8      2014-04-24  NaN          2         3\n",
      "8              9      2015-04-24  7.0          4         3\n",
      "9             10      2016-05-08  3.0          4         4\n"
     ]
    }
   ],
   "source": [
    "print(df)"
   ]
  },
  {
   "cell_type": "code",
   "execution_count": 372,
   "id": "8dd1f969-04df-4b3e-a476-38192b340a86",
   "metadata": {},
   "outputs": [
    {
     "name": "stdout",
     "output_type": "stream",
     "text": [
      "   TransactionID TransactionDate  UserID  ProductID  Quantity\n",
      "6              7      2013-12-30     3.0          4         1\n",
      "4              5      2013-06-06     2.0          4         1\n",
      "2              3      2011-06-16     3.0          3         1\n",
      "1              2      2011-05-26     3.0          4         1\n",
      "0              1      2010-08-21     7.0          2         1\n"
     ]
    }
   ],
   "source": [
    "import pandas as pd\n",
    "df = pd.read_csv(\"transactions.csv\")\n",
    "df_sorted = df.sort_values(by=[\"Quantity\", \"TransactionDate\"],\n",
    "ascending=[True, False])\n",
    "print(df_sorted.head())"
   ]
  },
  {
   "cell_type": "markdown",
   "id": "f74779c5-5194-4479-8594-8c2a55aaf5b8",
   "metadata": {},
   "source": [
    "## 1print summary of transaction data set"
   ]
  },
  {
   "cell_type": "code",
   "execution_count": 374,
   "id": "2b7d9667-92e5-48fd-bcf9-d51c5e822d86",
   "metadata": {},
   "outputs": [
    {
     "name": "stdout",
     "output_type": "stream",
     "text": [
      "        TransactionID TransactionDate    UserID  ProductID   Quantity\n",
      "count        10.00000              10  9.000000  10.000000  10.000000\n",
      "unique            NaN              10       NaN        NaN        NaN\n",
      "top               NaN      2010-08-21       NaN        NaN        NaN\n",
      "freq              NaN               1       NaN        NaN        NaN\n",
      "mean          5.50000             NaN  3.444444   3.400000   2.400000\n",
      "std           3.02765             NaN  2.127858   1.074968   1.712698\n",
      "min           1.00000             NaN  1.000000   2.000000   1.000000\n",
      "25%           3.25000             NaN  2.000000   2.250000   1.000000\n",
      "50%           5.50000             NaN  3.000000   4.000000   2.000000\n",
      "75%           7.75000             NaN  3.000000   4.000000   3.000000\n",
      "max          10.00000             NaN  7.000000   5.000000   6.000000\n"
     ]
    }
   ],
   "source": [
    "print(df.describe(include='all'))"
   ]
  },
  {
   "cell_type": "markdown",
   "id": "6f074315-09b5-4c42-bbe6-050fdd7a7ddf",
   "metadata": {},
   "source": [
    "## 2.print number of records"
   ]
  },
  {
   "cell_type": "code",
   "execution_count": 376,
   "id": "279db3f9-836e-46dd-b007-45f062cd61d9",
   "metadata": {},
   "outputs": [
    {
     "name": "stdout",
     "output_type": "stream",
     "text": [
      "no of records 10\n"
     ]
    }
   ],
   "source": [
    "print(\"no of records\",df.shape[0])"
   ]
  },
  {
   "cell_type": "markdown",
   "id": "21533370-b802-4a41-babf-39a34b84652a",
   "metadata": {},
   "source": [
    "## 3.print number of Attributes"
   ]
  },
  {
   "cell_type": "code",
   "execution_count": 378,
   "id": "037e2d6d-335a-4d59-b343-a589ba700cb8",
   "metadata": {},
   "outputs": [
    {
     "name": "stdout",
     "output_type": "stream",
     "text": [
      "no of attributes 5\n"
     ]
    }
   ],
   "source": [
    "print(\"no of attributes\",df.shape[1])"
   ]
  },
  {
   "cell_type": "markdown",
   "id": "18c9e74a-82f3-4d67-8108-8dfccefc7e6e",
   "metadata": {},
   "source": [
    "## 4.Get the row names"
   ]
  },
  {
   "cell_type": "code",
   "execution_count": 381,
   "id": "a244430a-dafa-48e8-9996-8572c0a761ae",
   "metadata": {},
   "outputs": [
    {
     "name": "stdout",
     "output_type": "stream",
     "text": [
      "Row names: [0, 1, 2, 3, 4, 5, 6, 7, 8, 9]\n"
     ]
    }
   ],
   "source": [
    "row_names = df.index\n",
    "print(\"Row names:\", row_names.tolist())"
   ]
  },
  {
   "cell_type": "markdown",
   "id": "2e495e38-7a89-441b-b21e-f7906380666d",
   "metadata": {},
   "source": [
    "## 5.Get column names"
   ]
  },
  {
   "cell_type": "code",
   "execution_count": 383,
   "id": "79130450-84a0-46d6-9ba8-f60ac571d7e3",
   "metadata": {},
   "outputs": [
    {
     "name": "stdout",
     "output_type": "stream",
     "text": [
      "Column names: ['TransactionID', 'TransactionDate', 'UserID', 'ProductID', 'Quantity']\n"
     ]
    }
   ],
   "source": [
    "row_names = df.columns\n",
    "print(\"Column names:\", row_names.tolist())"
   ]
  },
  {
   "cell_type": "markdown",
   "id": "76834d74-8cb2-45a1-898b-670d3a1be2b3",
   "metadata": {},
   "source": [
    "## 6.view top 10 records"
   ]
  },
  {
   "cell_type": "code",
   "execution_count": 387,
   "id": "20cb349d-d0f7-49d5-b2f8-8fef4d49b954",
   "metadata": {},
   "outputs": [
    {
     "name": "stdout",
     "output_type": "stream",
     "text": [
      "   TransactionID TransactionDate  UserID  ProductID  Quantity\n",
      "0              1      2010-08-21     7.0          2         1\n",
      "1              2      2011-05-26     3.0          4         1\n",
      "2              3      2011-06-16     3.0          3         1\n",
      "3              4      2012-08-26     1.0          2         3\n",
      "4              5      2013-06-06     2.0          4         1\n",
      "5              6      2013-12-23     2.0          5         6\n",
      "6              7      2013-12-30     3.0          4         1\n",
      "7              8      2014-04-24     NaN          2         3\n",
      "8              9      2015-04-24     7.0          4         3\n",
      "9             10      2016-05-08     3.0          4         4\n"
     ]
    }
   ],
   "source": [
    "print(df.head(10))"
   ]
  },
  {
   "cell_type": "markdown",
   "id": "f6874c70-c024-4874-8afa-df8a7e26d690",
   "metadata": {},
   "source": [
    "## 7.change the name of column Quantity to Quant"
   ]
  },
  {
   "cell_type": "code",
   "execution_count": 389,
   "id": "2db7417e-ab5f-4b67-bad8-c0962296040c",
   "metadata": {},
   "outputs": [
    {
     "name": "stdout",
     "output_type": "stream",
     "text": [
      "   TransactionID TransactionDate  UserID  ProductID  Quant\n",
      "0              1      2010-08-21     7.0          2      1\n",
      "1              2      2011-05-26     3.0          4      1\n",
      "2              3      2011-06-16     3.0          3      1\n",
      "3              4      2012-08-26     1.0          2      3\n",
      "4              5      2013-06-06     2.0          4      1\n",
      "5              6      2013-12-23     2.0          5      6\n",
      "6              7      2013-12-30     3.0          4      1\n",
      "7              8      2014-04-24     NaN          2      3\n",
      "8              9      2015-04-24     7.0          4      3\n",
      "9             10      2016-05-08     3.0          4      4\n"
     ]
    }
   ],
   "source": [
    "df.rename(columns={'Quantity':'Quant'},inplace=True)\n",
    "print(df)"
   ]
  },
  {
   "cell_type": "markdown",
   "id": "9ba61ddc-ee96-4189-91dd-707afdc3a4b2",
   "metadata": {},
   "source": [
    "## 8.Change the name of columns ProductID and UserID"
   ]
  },
  {
   "cell_type": "code",
   "execution_count": 391,
   "id": "a6631bdc-bc52-4771-8f64-377f45240347",
   "metadata": {},
   "outputs": [
    {
     "name": "stdout",
     "output_type": "stream",
     "text": [
      "   TransactionID TransactionDate  UID  PID  Quant\n",
      "0              1      2010-08-21  7.0    2      1\n",
      "1              2      2011-05-26  3.0    4      1\n",
      "2              3      2011-06-16  3.0    3      1\n",
      "3              4      2012-08-26  1.0    2      3\n",
      "4              5      2013-06-06  2.0    4      1\n",
      "5              6      2013-12-23  2.0    5      6\n",
      "6              7      2013-12-30  3.0    4      1\n",
      "7              8      2014-04-24  NaN    2      3\n",
      "8              9      2015-04-24  7.0    4      3\n",
      "9             10      2016-05-08  3.0    4      4\n"
     ]
    }
   ],
   "source": [
    "df.rename(columns={'ProductID':'PID','UserID':'UID'},inplace=True)\n",
    "print(df)"
   ]
  },
  {
   "cell_type": "markdown",
   "id": "61f27005-922e-4a42-bbd3-b1da5e1d4394",
   "metadata": {},
   "source": [
    "## 9.Order the rows of transactions by TransactionId\n",
    "descending, if ascending then ascending=True"
   ]
  },
  {
   "cell_type": "code",
   "execution_count": 393,
   "id": "7c3c4f69-51bd-4c67-9395-7c27452c2cfd",
   "metadata": {},
   "outputs": [
    {
     "name": "stdout",
     "output_type": "stream",
     "text": [
      "   TransactionID TransactionDate  UID  PID  Quant\n",
      "9             10      2016-05-08  3.0    4      4\n",
      "8              9      2015-04-24  7.0    4      3\n",
      "7              8      2014-04-24  NaN    2      3\n",
      "6              7      2013-12-30  3.0    4      1\n",
      "5              6      2013-12-23  2.0    5      6\n"
     ]
    }
   ],
   "source": [
    "df_sorted = df.sort_values(by=[\"TransactionID\"],\n",
    "ascending=[False])\n",
    "print(df_sorted.head())"
   ]
  },
  {
   "cell_type": "markdown",
   "id": "5d474372-bfc3-4526-9a15-4bee23f97c6e",
   "metadata": {},
   "source": [
    "## 10.Order the rows of transactions by Quantity ascending, TransactionDate descending"
   ]
  },
  {
   "cell_type": "code",
   "execution_count": 395,
   "id": "6b499b67-31d7-4d39-97d7-c65119bf4585",
   "metadata": {},
   "outputs": [
    {
     "name": "stdout",
     "output_type": "stream",
     "text": [
      "   TransactionID TransactionDate  UID  PID  Quant\n",
      "6              7      2013-12-30  3.0    4      1\n",
      "4              5      2013-06-06  2.0    4      1\n",
      "2              3      2011-06-16  3.0    3      1\n",
      "1              2      2011-05-26  3.0    4      1\n",
      "0              1      2010-08-21  7.0    2      1\n"
     ]
    }
   ],
   "source": [
    "df_sorted = df.sort_values(by=[\"Quant\", \"TransactionDate\"],\n",
    "ascending=[True, False])\n",
    "print(df_sorted.head())"
   ]
  },
  {
   "cell_type": "markdown",
   "id": "fcd86dd5-669a-4bb7-a112-022c1222b69b",
   "metadata": {},
   "source": [
    "## 11.Set the column order of Transactions as ProductID,Quantity, TransactionDate, TransactionID, UserID"
   ]
  },
  {
   "cell_type": "code",
   "execution_count": 397,
   "id": "caaf7c0f-26f0-4441-9442-7f3bc1dd66ae",
   "metadata": {},
   "outputs": [
    {
     "name": "stdout",
     "output_type": "stream",
     "text": [
      "   PID  Quant TransactionDate  TransactionID  UID\n",
      "0    2      1      2010-08-21              1  7.0\n",
      "1    4      1      2011-05-26              2  3.0\n",
      "2    3      1      2011-06-16              3  3.0\n",
      "3    2      3      2012-08-26              4  1.0\n",
      "4    4      1      2013-06-06              5  2.0\n",
      "5    5      6      2013-12-23              6  2.0\n",
      "6    4      1      2013-12-30              7  3.0\n",
      "7    2      3      2014-04-24              8  NaN\n",
      "8    4      3      2015-04-24              9  7.0\n",
      "9    4      4      2016-05-08             10  3.0\n"
     ]
    }
   ],
   "source": [
    "df=df[['PID','Quant','TransactionDate','TransactionID','UID']]\n",
    "print(df)"
   ]
  },
  {
   "cell_type": "markdown",
   "id": "f25a2d3a-9ab5-44f5-866f-a41dbef48408",
   "metadata": {},
   "source": [
    "##  12.Make UserID the first column of transactions"
   ]
  },
  {
   "cell_type": "code",
   "execution_count": 399,
   "id": "f46af81b-bd7a-4c6a-aabb-a5e4dcd980a5",
   "metadata": {},
   "outputs": [
    {
     "name": "stdout",
     "output_type": "stream",
     "text": [
      "   UID  PID  Quant TransactionDate  TransactionID\n",
      "0  7.0    2      1      2010-08-21              1\n",
      "1  3.0    4      1      2011-05-26              2\n",
      "2  3.0    3      1      2011-06-16              3\n",
      "3  1.0    2      3      2012-08-26              4\n",
      "4  2.0    4      1      2013-06-06              5\n",
      "5  2.0    5      6      2013-12-23              6\n",
      "6  3.0    4      1      2013-12-30              7\n",
      "7  NaN    2      3      2014-04-24              8\n",
      "8  7.0    4      3      2015-04-24              9\n",
      "9  3.0    4      4      2016-05-08             10\n"
     ]
    }
   ],
   "source": [
    "df=df[['UID','PID','Quant','TransactionDate','TransactionID']]\n",
    "print(df)"
   ]
  },
  {
   "cell_type": "markdown",
   "id": "4a7a7647-05de-4593-8595-f99f332fc635",
   "metadata": {},
   "source": [
    "## 13. Extracting arrays from a Data Frame. Get the 2nd column"
   ]
  },
  {
   "cell_type": "code",
   "execution_count": 401,
   "id": "1438767e-b356-481d-b6fd-fe1307b610bb",
   "metadata": {},
   "outputs": [
    {
     "name": "stdout",
     "output_type": "stream",
     "text": [
      "[2 4 3 2 4 5 4 2 4 4]\n"
     ]
    }
   ],
   "source": [
    "col=df.iloc[:,1].values\n",
    "print(col)"
   ]
  },
  {
   "cell_type": "markdown",
   "id": "537902ef-8f43-423a-b207-f8f83d00d65c",
   "metadata": {},
   "source": [
    "## 14.Get the ProductID Array"
   ]
  },
  {
   "cell_type": "code",
   "execution_count": 403,
   "id": "d20603a6-b944-4d99-b6b0-db5921599b6e",
   "metadata": {},
   "outputs": [
    {
     "name": "stdout",
     "output_type": "stream",
     "text": [
      "[2 4 3 2 4 5 4 2 4 4]\n"
     ]
    }
   ],
   "source": [
    "pid=df[\"PID\"].values\n",
    "print(pid)"
   ]
  },
  {
   "cell_type": "code",
   "execution_count": 404,
   "id": "c53ab903-6c87-41b5-a3b3-e0d863d2e0c6",
   "metadata": {},
   "outputs": [
    {
     "name": "stdout",
     "output_type": "stream",
     "text": [
      "[1 1 1 3 1 6 1 3 3 4]\n"
     ]
    }
   ],
   "source": [
    "pid=df[\"Quant\"].values\n",
    "print(pid)"
   ]
  },
  {
   "cell_type": "markdown",
   "id": "669a3029-6d18-4f39-9826-6c3b5a62c921",
   "metadata": {},
   "source": [
    "## 16.Row subsetting, subset rows 1,3 and 6"
   ]
  },
  {
   "cell_type": "code",
   "execution_count": 406,
   "id": "a9841883-abd1-4f20-bbb5-2069463c3bac",
   "metadata": {},
   "outputs": [
    {
     "name": "stdout",
     "output_type": "stream",
     "text": [
      "   UID  PID  Quant TransactionDate  TransactionID\n",
      "0  7.0    2      1      2010-08-21              1\n",
      "2  3.0    3      1      2011-06-16              3\n",
      "5  2.0    5      6      2013-12-23              6\n"
     ]
    }
   ],
   "source": [
    "subset_rows = df.iloc[[0, 2, 5]]\n",
    "print(subset_rows)"
   ]
  },
  {
   "cell_type": "markdown",
   "id": "09d8a759-1bcb-4fb8-a864-35b686f9211f",
   "metadata": {},
   "source": [
    "## 17. Subset rows excluding 1, 3, and 6"
   ]
  },
  {
   "cell_type": "code",
   "execution_count": 434,
   "id": "62b74f14-4585-4bf6-bb8a-d6d58f93bb11",
   "metadata": {},
   "outputs": [
    {
     "name": "stdout",
     "output_type": "stream",
     "text": [
      "   UID  PID  Quant TransactionDate  TransactionID\n",
      "1  3.0    4      1      2011-05-26              2\n",
      "3  1.0    2      3      2012-08-26              4\n",
      "4  2.0    4      1      2013-06-06              5\n",
      "6  3.0    4      1      2013-12-30              7\n",
      "7  NaN    2      3      2014-04-24              8\n",
      "8  7.0    4      3      2015-04-24              9\n",
      "9  3.0    4      4      2016-05-08             10\n"
     ]
    }
   ],
   "source": [
    "ss= df.drop(index=[0, 2, 5])\n",
    "print(ss)"
   ]
  },
  {
   "cell_type": "markdown",
   "id": "11a64130-3546-4ec7-9f17-6aae2bae73ec",
   "metadata": {},
   "source": [
    "## 18. Subset the first three rows\n"
   ]
  },
  {
   "cell_type": "code",
   "execution_count": 437,
   "id": "562d0bbd-14ce-4099-93a2-8a9c918b430f",
   "metadata": {},
   "outputs": [
    {
     "name": "stdout",
     "output_type": "stream",
     "text": [
      "   UID  PID  Quant TransactionDate  TransactionID\n",
      "0  7.0    2      1      2010-08-21              1\n",
      "1  3.0    4      1      2011-05-26              2\n",
      "2  3.0    3      1      2011-06-16              3\n"
     ]
    }
   ],
   "source": [
    "ss3 = df.head(3)\n",
    "print(ss3)"
   ]
  },
  {
   "cell_type": "markdown",
   "id": "7eff4f5f-ca06-41d5-a8a5-cb4c377d76d3",
   "metadata": {},
   "source": [
    " ## 19. Subset the last 2 rows\n"
   ]
  },
  {
   "cell_type": "code",
   "execution_count": 440,
   "id": "99298317-e11a-4364-875b-ec65cda0a86b",
   "metadata": {},
   "outputs": [
    {
     "name": "stdout",
     "output_type": "stream",
     "text": [
      "   UID  PID  Quant TransactionDate  TransactionID\n",
      "8  7.0    4      3      2015-04-24              9\n",
      "9  3.0    4      4      2016-05-08             10\n"
     ]
    }
   ],
   "source": [
    "sl2 = df.tail(2)\n",
    "print(sl2)"
   ]
  },
  {
   "cell_type": "markdown",
   "id": "040ac115-c003-4433-a3ae-4eb512d612a3",
   "metadata": {},
   "source": [
    "## 20 Subset rows excluding the last 2 rows"
   ]
  },
  {
   "cell_type": "code",
   "execution_count": 443,
   "id": "7f4f78b8-b8cc-4f6f-8dfd-4f490ff69d70",
   "metadata": {},
   "outputs": [
    {
     "name": "stdout",
     "output_type": "stream",
     "text": [
      "   UID  PID  Quant TransactionDate  TransactionID\n",
      "0  7.0    2      1      2010-08-21              1\n",
      "1  3.0    4      1      2011-05-26              2\n",
      "2  3.0    3      1      2011-06-16              3\n",
      "3  1.0    2      3      2012-08-26              4\n",
      "4  2.0    4      1      2013-06-06              5\n",
      "5  2.0    5      6      2013-12-23              6\n",
      "6  3.0    4      1      2013-12-30              7\n",
      "7  NaN    2      3      2014-04-24              8\n"
     ]
    }
   ],
   "source": [
    "ssl2 = df.iloc[:-2]\n",
    "print(ssl2)"
   ]
  },
  {
   "cell_type": "markdown",
   "id": "92495129-9cfb-40b7-96cd-6caeca7072ed",
   "metadata": {},
   "source": [
    "### 21. Subset rows excluding the first 3 rows"
   ]
  },
  {
   "cell_type": "code",
   "execution_count": 446,
   "id": "5804a691-9bad-4cbf-9f75-4e2da2961220",
   "metadata": {},
   "outputs": [
    {
     "name": "stdout",
     "output_type": "stream",
     "text": [
      "   UID  PID  Quant TransactionDate  TransactionID\n",
      "3  1.0    2      3      2012-08-26              4\n",
      "4  2.0    4      1      2013-06-06              5\n",
      "5  2.0    5      6      2013-12-23              6\n",
      "6  3.0    4      1      2013-12-30              7\n",
      "7  NaN    2      3      2014-04-24              8\n",
      "8  7.0    4      3      2015-04-24              9\n",
      "9  3.0    4      4      2016-05-08             10\n"
     ]
    }
   ],
   "source": [
    "sef3 = df.iloc[3:]\n",
    "print(sef3)"
   ]
  },
  {
   "cell_type": "markdown",
   "id": "ac8e3ca5-676b-416f-aa45-26c2e8ed47c6",
   "metadata": {},
   "source": [
    "## 22. Subset rows where Quantity>1"
   ]
  },
  {
   "cell_type": "code",
   "execution_count": 449,
   "id": "5cd103fc-0526-44f0-ad54-34fbec5b0fcc",
   "metadata": {},
   "outputs": [
    {
     "name": "stdout",
     "output_type": "stream",
     "text": [
      "   UID  PID  Quant TransactionDate  TransactionID\n",
      "3  1.0    2      3      2012-08-26              4\n",
      "5  2.0    5      6      2013-12-23              6\n",
      "7  NaN    2      3      2014-04-24              8\n",
      "8  7.0    4      3      2015-04-24              9\n",
      "9  3.0    4      4      2016-05-08             10\n"
     ]
    }
   ],
   "source": [
    "ss1 = df[df[\"Quant\"] > 1]\n",
    "print(ss1)"
   ]
  },
  {
   "cell_type": "markdown",
   "id": "f62414f2-675c-4fc2-9dcb-280bd71344a7",
   "metadata": {},
   "source": [
    "## 23. Subset rows where UserID=2"
   ]
  },
  {
   "cell_type": "code",
   "execution_count": 452,
   "id": "acaf4013-eb4c-4f79-a9db-9a51560278a3",
   "metadata": {},
   "outputs": [
    {
     "name": "stdout",
     "output_type": "stream",
     "text": [
      "   UID  PID  Quant TransactionDate  TransactionID\n",
      "4  2.0    4      1      2013-06-06              5\n",
      "5  2.0    5      6      2013-12-23              6\n"
     ]
    }
   ],
   "source": [
    "ss1 = df[df[\"UID\"] ==2]\n",
    "print(ss1)"
   ]
  },
  {
   "cell_type": "markdown",
   "id": "32a07dc8-a1a2-4687-a7b5-e82e9db246df",
   "metadata": {},
   "source": [
    "## 24. Subset rows where Quantity>1 and UserID=2"
   ]
  },
  {
   "cell_type": "code",
   "execution_count": 455,
   "id": "49d6e36f-a25f-4aa3-a4cc-630e3f0a3ccb",
   "metadata": {},
   "outputs": [
    {
     "name": "stdout",
     "output_type": "stream",
     "text": [
      "   UID  PID  Quant TransactionDate  TransactionID\n",
      "5  2.0    5      6      2013-12-23              6\n"
     ]
    }
   ],
   "source": [
    "ss1 = df[(df[\"Quant\"] > 1) & (df[\"UID\"] == 2)]\n",
    "print(ss1)"
   ]
  },
  {
   "cell_type": "markdown",
   "id": "578a9c36-7a2a-4a90-a297-12de0ff0ad18",
   "metadata": {},
   "source": [
    "## 25. Subset rows where Quantity + UserID is >3"
   ]
  },
  {
   "cell_type": "code",
   "execution_count": 458,
   "id": "194edb29-b802-4d2b-bd64-59393eea85e2",
   "metadata": {},
   "outputs": [
    {
     "name": "stdout",
     "output_type": "stream",
     "text": [
      "   UID  PID  Quant TransactionDate  TransactionID\n",
      "0  7.0    2      1      2010-08-21              1\n",
      "1  3.0    4      1      2011-05-26              2\n",
      "2  3.0    3      1      2011-06-16              3\n",
      "3  1.0    2      3      2012-08-26              4\n",
      "5  2.0    5      6      2013-12-23              6\n",
      "6  3.0    4      1      2013-12-30              7\n",
      "8  7.0    4      3      2015-04-24              9\n",
      "9  3.0    4      4      2016-05-08             10\n"
     ]
    }
   ],
   "source": [
    "ss1=df[(df[\"Quant\"] + df[\"UID\"]) > 3]\n",
    "print(ss1)"
   ]
  },
  {
   "cell_type": "markdown",
   "id": "8c354eb9-1114-4324-a812-d6fbb9bf502c",
   "metadata": {},
   "source": [
    "## 26.Subset rows where an external array, foo, is True"
   ]
  },
  {
   "cell_type": "code",
   "execution_count": 461,
   "id": "a5e17541-dad5-4f4f-9bbe-152eb44b276c",
   "metadata": {},
   "outputs": [
    {
     "name": "stdout",
     "output_type": "stream",
     "text": [
      "   UID  PID  Quant TransactionDate  TransactionID\n",
      "0  7.0    2      1      2010-08-21              1\n",
      "2  3.0    3      1      2011-06-16              3\n",
      "4  2.0    4      1      2013-06-06              5\n",
      "6  3.0    4      1      2013-12-30              7\n",
      "8  7.0    4      3      2015-04-24              9\n"
     ]
    }
   ],
   "source": [
    "foo = [True, False, True, False,True, False, True, False,True, False]\n",
    "ea= df[foo]\n",
    "print(ea)"
   ]
  },
  {
   "cell_type": "markdown",
   "id": "2862b73a-20ad-4112-9221-40a21bc47dba",
   "metadata": {},
   "source": [
    "##  27. Subset rows where an external array, bar, is positive"
   ]
  },
  {
   "cell_type": "code",
   "execution_count": 464,
   "id": "be42e87d-372e-4fda-9bb3-1901215ab581",
   "metadata": {},
   "outputs": [
    {
     "name": "stdout",
     "output_type": "stream",
     "text": [
      "   UID  PID  Quant TransactionDate  TransactionID\n",
      "0  7.0    2      1      2010-08-21              1\n",
      "3  1.0    2      3      2012-08-26              4\n",
      "4  2.0    4      1      2013-06-06              5\n",
      "7  NaN    2      3      2014-04-24              8\n",
      "8  7.0    4      3      2015-04-24              9\n"
     ]
    }
   ],
   "source": [
    "bar=[1,-1,-2,2,3,-3,-4,4,5,-5]\n",
    "ss1=df[[b>0 for b in bar]]\n",
    "print(ss1)"
   ]
  },
  {
   "cell_type": "markdown",
   "id": "47b2a761-db56-4bf1-8fe3-5fbd0a8e6afe",
   "metadata": {},
   "source": [
    "## 28. Subset rows where foo is TRUE or bar is negative"
   ]
  },
  {
   "cell_type": "code",
   "execution_count": 467,
   "id": "742b6c7d-2b8c-487c-964a-76417bc17549",
   "metadata": {},
   "outputs": [
    {
     "name": "stdout",
     "output_type": "stream",
     "text": [
      "   UID  PID  Quant TransactionDate  TransactionID    foo  bar\n",
      "0  7.0    2      1      2010-08-21              1   True    1\n",
      "1  3.0    4      1      2011-05-26              2  False   -1\n",
      "2  3.0    3      1      2011-06-16              3   True   -2\n",
      "4  2.0    4      1      2013-06-06              5   True    3\n",
      "5  2.0    5      6      2013-12-23              6  False   -3\n",
      "6  3.0    4      1      2013-12-30              7   True   -4\n",
      "8  7.0    4      3      2015-04-24              9   True    5\n",
      "9  3.0    4      4      2016-05-08             10  False   -5\n"
     ]
    }
   ],
   "source": [
    "df[\"foo\"] = foo\n",
    "df[\"bar\"] = bar\n",
    "ss2 = df[df[\"foo\"] | (df[\"bar\"] < 0)]\n",
    "print(ss2)\n"
   ]
  },
  {
   "cell_type": "markdown",
   "id": "0b91733a-3cb4-4d8a-8886-7be24d45c064",
   "metadata": {},
   "source": [
    "## 29.Subset the rows where foo is not TRUE and bar is not negative"
   ]
  },
  {
   "cell_type": "code",
   "execution_count": 470,
   "id": "f06a8c52-7872-4d5e-83d6-29e903611806",
   "metadata": {},
   "outputs": [
    {
     "name": "stdout",
     "output_type": "stream",
     "text": [
      "   UID  PID  Quant TransactionDate  TransactionID    foo  bar\n",
      "3  1.0    2      3      2012-08-26              4  False    2\n",
      "7  NaN    2      3      2014-04-24              8  False    4\n"
     ]
    }
   ],
   "source": [
    "ss3 = df[~df[\"foo\"] & (df[\"bar\"] >= 0)]\n",
    "print(ss3)\n"
   ]
  },
  {
   "cell_type": "markdown",
   "id": "cb252afc-528d-4b9c-a28c-cdac6b71f1ca",
   "metadata": {},
   "source": [
    "## 30. Subset by columns 1 and 3"
   ]
  },
  {
   "cell_type": "code",
   "execution_count": 473,
   "id": "74680766-0ddd-4525-92f7-3d44a20cb4e7",
   "metadata": {},
   "outputs": [
    {
     "name": "stdout",
     "output_type": "stream",
     "text": [
      "   UID  Quant\n",
      "0  7.0      1\n",
      "1  3.0      1\n",
      "2  3.0      1\n",
      "3  1.0      3\n",
      "4  2.0      1\n",
      "5  2.0      6\n",
      "6  3.0      1\n",
      "7  NaN      3\n",
      "8  7.0      3\n",
      "9  3.0      4\n"
     ]
    }
   ],
   "source": [
    "ss1=df.iloc[:, [0, 2]]\n",
    "print(ss1)"
   ]
  },
  {
   "cell_type": "markdown",
   "id": "2ccbcc26-7bbd-4f32-bd18-6c2a7ab84db6",
   "metadata": {},
   "source": [
    "## 31. Subset by columns TransactionID and TransactionDate"
   ]
  },
  {
   "cell_type": "code",
   "execution_count": 476,
   "id": "317e3bf1-04b0-428c-9d70-fcb49b9a7c15",
   "metadata": {},
   "outputs": [
    {
     "name": "stdout",
     "output_type": "stream",
     "text": [
      "   TransactionID TransactionDate\n",
      "0              1      2010-08-21\n",
      "1              2      2011-05-26\n",
      "2              3      2011-06-16\n",
      "3              4      2012-08-26\n",
      "4              5      2013-06-06\n",
      "5              6      2013-12-23\n",
      "6              7      2013-12-30\n",
      "7              8      2014-04-24\n",
      "8              9      2015-04-24\n",
      "9             10      2016-05-08\n"
     ]
    }
   ],
   "source": [
    "sst = df[[\"TransactionID\", \"TransactionDate\"]]\n",
    "print(sst)"
   ]
  },
  {
   "cell_type": "markdown",
   "id": "33b351b5-8359-48ac-a43f-8a59a1173b26",
   "metadata": {},
   "source": [
    "## 32. Subset by columns TransactionID and TransactionDate with logical operator"
   ]
  },
  {
   "cell_type": "code",
   "execution_count": 479,
   "id": "36c5f3ed-9289-4f24-8622-eebb0fdbfcc5",
   "metadata": {},
   "outputs": [
    {
     "name": "stdout",
     "output_type": "stream",
     "text": [
      "   TransactionID TransactionDate\n",
      "3              4      2012-08-26\n",
      "5              6      2013-12-23\n",
      "7              8      2014-04-24\n",
      "8              9      2015-04-24\n",
      "9             10      2016-05-08\n"
     ]
    }
   ],
   "source": [
    "subset = df[df['Quant'] > 1][['TransactionID','TransactionDate']]\n",
    "print(subset)"
   ]
  },
  {
   "cell_type": "markdown",
   "id": "cfffc7c9-98a5-470b-9495-d2823db48c00",
   "metadata": {},
   "source": [
    "## 33. Subset columns by a variable list of column names"
   ]
  },
  {
   "cell_type": "code",
   "execution_count": 482,
   "id": "4d40b6f1-1f82-47b6-bf2f-22eb8d2c074a",
   "metadata": {},
   "outputs": [
    {
     "name": "stdout",
     "output_type": "stream",
     "text": [
      "   TransactionID TransactionDate\n",
      "0              1      2010-08-21\n",
      "1              2      2011-05-26\n",
      "2              3      2011-06-16\n",
      "3              4      2012-08-26\n",
      "4              5      2013-06-06\n",
      "5              6      2013-12-23\n",
      "6              7      2013-12-30\n",
      "7              8      2014-04-24\n",
      "8              9      2015-04-24\n",
      "9             10      2016-05-08\n"
     ]
    }
   ],
   "source": [
    "columns_to_select = ['TransactionID', 'TransactionDate']\n",
    "subset_columns = df[columns_to_select]\n",
    "print(subset_columns)"
   ]
  },
  {
   "cell_type": "markdown",
   "id": "8d906034-0e37-422e-ad56-774af081bc7a",
   "metadata": {},
   "source": [
    "## 34. Subset columns excluding a variable list of column names"
   ]
  },
  {
   "cell_type": "code",
   "execution_count": 485,
   "id": "ef87892d-1ec3-401c-a780-223c114df5e1",
   "metadata": {},
   "outputs": [
    {
     "name": "stdout",
     "output_type": "stream",
     "text": [
      "   UID TransactionDate  TransactionID    foo  bar\n",
      "0  7.0      2010-08-21              1   True    1\n",
      "1  3.0      2011-05-26              2  False   -1\n",
      "2  3.0      2011-06-16              3   True   -2\n",
      "3  1.0      2012-08-26              4  False    2\n",
      "4  2.0      2013-06-06              5   True    3\n",
      "5  2.0      2013-12-23              6  False   -3\n",
      "6  3.0      2013-12-30              7   True   -4\n",
      "7  NaN      2014-04-24              8  False    4\n",
      "8  7.0      2015-04-24              9   True    5\n",
      "9  3.0      2016-05-08             10  False   -5\n"
     ]
    }
   ],
   "source": [
    "columns_to_exclude = ['Quant', 'PID']\n",
    "subset_columns_excluded = df[[col for col in df.columns if col not\n",
    "in columns_to_exclude]]\n",
    "print(subset_columns_excluded)"
   ]
  },
  {
   "cell_type": "markdown",
   "id": "a15b7c5e-70ff-4bde-a306-b58e4b57606e",
   "metadata": {},
   "source": [
    "## 35. Inserting and updating values"
   ]
  },
  {
   "cell_type": "code",
   "execution_count": 499,
   "id": "668c3d02-7245-486e-ba55-a3f9907061c3",
   "metadata": {},
   "outputs": [
    {
     "name": "stdout",
     "output_type": "stream",
     "text": [
      "    UID  PID  Quant      TransactionDate  TransactionID    foo  bar   Foo  \\\n",
      "0   7.0    2     15  2010-08-21 00:00:00              1   True  1.0   9.0   \n",
      "1   3.0    4      6  2011-05-26 00:00:00              2  False -1.0   7.0   \n",
      "2   3.0    3      6  2011-06-16 00:00:00              3   True -2.0   6.0   \n",
      "3   1.0    2      8  2012-08-26 00:00:00              4  False  2.0   3.0   \n",
      "4   2.0    4      6  2013-06-06 00:00:00              5   True  3.0   6.0   \n",
      "5  45.0  101      4           2024-02-01           8888    NaN  NaN   NaN   \n",
      "6   2.0    5     11  2013-12-23 00:00:00              6  False -3.0   7.0   \n",
      "7   3.0    4      6  2013-12-30 00:00:00              7   True -4.0   7.0   \n",
      "8   NaN    2      8  2014-04-24 00:00:00              8  False  4.0   NaN   \n",
      "9   7.0    4      8  2015-04-24 00:00:00              9   True  5.0  11.0   \n",
      "\n",
      "   Discount  \n",
      "0      0.15  \n",
      "1      0.10  \n",
      "2      0.10  \n",
      "3      0.10  \n",
      "4      0.10  \n",
      "5      0.10  \n",
      "6      0.15  \n",
      "7      0.10  \n",
      "8      0.10  \n",
      "9      0.10  \n"
     ]
    }
   ],
   "source": [
    "\n",
    "# 1. Updating a single value: Set the Quantity (Quant) of the first row to 10\n",
    "df.loc[0, \"Quant\"] = 10  \n",
    "\n",
    "# 2. Updating multiple values: Increase all Quantities by 5\n",
    "df[\"Quant\"] += 5\n",
    "\n",
    "# 3. Adding a new column: Add a column \"Discount\" with a default value of 10%\n",
    "df[\"Discount\"] = 0.10\n",
    "\n",
    "# 4. Conditional Update: If Quant > 10, set Discount to 15%\n",
    "df.loc[df[\"Quant\"] > 10, \"Discount\"] = 0.15\n",
    "\n",
    "# 5. Insert a new row at index 5\n",
    "new_row = {\n",
    "    \"TransactionID\": 8888, \n",
    "    \"UID\": 45, \n",
    "    \"TransactionDate\": \"2024-02-01\", \n",
    "    \"PID\": 101, \n",
    "    \"Quant\": 4, \n",
    "    \"Discount\": 0.10  # Default discount value\n",
    "}\n",
    "\n",
    "df = pd.concat([df.iloc[:5], pd.DataFrame([new_row]), df.iloc[5:]]).reset_index(drop=True)\n",
    "\n",
    "# Save the updated DataFrame back to CSV (optional)\n",
    "df.to_csv(\"your_updated_file.csv\", index=False)  # Replace with your desired file name\n",
    "\n",
    "# Print the updated DataFrame\n",
    "print(df.head(10))\n"
   ]
  },
  {
   "cell_type": "markdown",
   "id": "f2ae9d28-e38a-4d88-bc24-405df152c431",
   "metadata": {},
   "source": [
    "## 36. Convert the TransactionDate column to type Date"
   ]
  },
  {
   "cell_type": "code",
   "execution_count": 490,
   "id": "a77c4221-91cf-4742-85fe-3e4d2606b9f6",
   "metadata": {},
   "outputs": [
    {
     "name": "stdout",
     "output_type": "stream",
     "text": [
      "UID                       float64\n",
      "PID                         int64\n",
      "Quant                       int64\n",
      "TransactionDate    datetime64[ns]\n",
      "TransactionID               int64\n",
      "foo                          bool\n",
      "bar                         int64\n",
      "dtype: object\n"
     ]
    }
   ],
   "source": [
    "df['TransactionDate'] = pd.to_datetime(df['TransactionDate'])\n",
    "print(df.dtypes)"
   ]
  },
  {
   "cell_type": "markdown",
   "id": "8bbd07eb-e881-46dd-b339-d2a910f6b053",
   "metadata": {},
   "source": [
    "## 37. Insert a new column, Foo=UserID+ProductID"
   ]
  },
  {
   "cell_type": "code",
   "execution_count": 501,
   "id": "7ff58fe1-6ef3-4c78-bda1-a6eb605138c9",
   "metadata": {},
   "outputs": [
    {
     "name": "stdout",
     "output_type": "stream",
     "text": [
      "   UID  PID  Quant      TransactionDate  TransactionID    foo  bar  Foo  \\\n",
      "0  7.0    2     15  2010-08-21 00:00:00              1   True  1.0  9.0   \n",
      "1  3.0    4      6  2011-05-26 00:00:00              2  False -1.0  7.0   \n",
      "2  3.0    3      6  2011-06-16 00:00:00              3   True -2.0  6.0   \n",
      "3  1.0    2      8  2012-08-26 00:00:00              4  False  2.0  3.0   \n",
      "4  2.0    4      6  2013-06-06 00:00:00              5   True  3.0  6.0   \n",
      "\n",
      "   Discount  \n",
      "0      0.15  \n",
      "1      0.10  \n",
      "2      0.10  \n",
      "3      0.10  \n",
      "4      0.10  \n"
     ]
    }
   ],
   "source": [
    "df['Foo'] = df['UID'] + df['PID']\n",
    "print(df.head())"
   ]
  },
  {
   "cell_type": "code",
   "execution_count": null,
   "id": "c96691f1-3f04-4b7b-aaad-a95f48a4c2f6",
   "metadata": {},
   "outputs": [],
   "source": []
  }
 ],
 "metadata": {
  "kernelspec": {
   "display_name": "Python [conda env:base] *",
   "language": "python",
   "name": "conda-base-py"
  },
  "language_info": {
   "codemirror_mode": {
    "name": "ipython",
    "version": 3
   },
   "file_extension": ".py",
   "mimetype": "text/x-python",
   "name": "python",
   "nbconvert_exporter": "python",
   "pygments_lexer": "ipython3",
   "version": "3.12.7"
  }
 },
 "nbformat": 4,
 "nbformat_minor": 5
}
